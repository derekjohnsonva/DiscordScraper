{
 "cells": [
  {
   "cell_type": "code",
   "execution_count": 2,
   "metadata": {},
   "outputs": [],
   "source": [
    "import pickle\n",
    "import pandas as pd"
   ]
  },
  {
   "cell_type": "code",
   "execution_count": 9,
   "metadata": {},
   "outputs": [
    {
     "name": "stdout",
     "output_type": "stream",
     "text": [
      "There are 172 messages in the dataset.\n",
      "The first message are: {'id': 1154526028983701525, 'response': \"hahaha full send or don't send at all\", 'message': 'dude this is the level of ambition im on, although im not nearly as dedicated as u'}\n"
     ]
    }
   ],
   "source": [
    "with open('tunadorable_interactions_in_Tunadorable.pkl', 'rb') as file:\n",
    "    messages = pickle.load(file)\n",
    "\n",
    "# print the number of messages\n",
    "print(f\"There are {len(messages)} messages in the dataset.\")\n",
    "print(f\"The first message is: {messages[0]}\")\n"
   ]
  }
 ],
 "metadata": {
  "kernelspec": {
   "display_name": "myenv",
   "language": "python",
   "name": "python3"
  },
  "language_info": {
   "codemirror_mode": {
    "name": "ipython",
    "version": 3
   },
   "file_extension": ".py",
   "mimetype": "text/x-python",
   "name": "python",
   "nbconvert_exporter": "python",
   "pygments_lexer": "ipython3",
   "version": "3.9.5"
  },
  "orig_nbformat": 4
 },
 "nbformat": 4,
 "nbformat_minor": 2
}
